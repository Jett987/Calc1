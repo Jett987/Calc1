{
  "nbformat": 4,
  "nbformat_minor": 0,
  "metadata": {
    "colab": {
      "provenance": [],
      "collapsed_sections": [],
      "authorship_tag": "ABX9TyMNc0xffITcPCIMkJWROkxH",
      "include_colab_link": true
    },
    "kernelspec": {
      "name": "python3",
      "display_name": "Python 3"
    },
    "language_info": {
      "name": "python"
    }
  },
  "cells": [
    {
      "cell_type": "markdown",
      "metadata": {
        "id": "view-in-github",
        "colab_type": "text"
      },
      "source": [
        "<a href=\"https://colab.research.google.com/github/Jett987/Calculus_1/blob/main/Calculus2825_ProgrammingLab_2.ipynb\" target=\"_parent\"><img src=\"https://colab.research.google.com/assets/colab-badge.svg\" alt=\"Open In Colab\"/></a>"
      ]
    },
    {
      "cell_type": "markdown",
      "source": [
        "Project Part # 2 : MATH 2825 Dr. Jacob's Calculus and Analytic Geometry\n",
        "Project Name: Programming Lab 2\n",
        "Jett McDowell\n",
        "(all coding was referenced from Dr. Jacob's github calculus 1 python repository.)"
      ],
      "metadata": {
        "id": "ugI2C-TXGqx4"
      }
    },
    {
      "cell_type": "markdown",
      "source": [
        "# Project Part # 2: MATH 2825 [Dr. Jacob's](https://github.com/nurfnick) Calculus and Analytic Geometry \n",
        "\n",
        "## Programming Lab 2\n",
        "\n",
        "### Jett McDowell \n",
        "#### a = 10 \n",
        "\n",
        "\n"
      ],
      "metadata": {
        "id": "AQtCTf-3HSut"
      }
    },
    {
      "cell_type": "code",
      "source": [
        "import matplotlib.pyplot as plt \n",
        "import numpy as np\n",
        "import math\n",
        "from sympy import *\n",
        "x = symbols('x')"
      ],
      "metadata": {
        "id": "eAwNISPPHgDC"
      },
      "execution_count": 8,
      "outputs": []
    },
    {
      "cell_type": "markdown",
      "source": [
        "## 1 Function Limit at Zero"
      ],
      "metadata": {
        "id": "oQZlS2L7HwAd"
      }
    },
    {
      "cell_type": "markdown",
      "source": [
        "Problem 1.) \n",
        "\n",
        "Part a.)"
      ],
      "metadata": {
        "id": "bmVK_o9UKThw"
      }
    },
    {
      "cell_type": "markdown",
      "source": [
        "I am going to take the given function, f(x)=tan(ax)/x, and substitute my first initals corresponding number from the given table in place of \"a\". In this case it is 10. Next I am going to graph the function. The results are listed below. "
      ],
      "metadata": {
        "id": "uDkBoQt9ugfz"
      }
    },
    {
      "cell_type": "code",
      "source": [
        "f = tan(10*x)/(x)\n",
        "f"
      ],
      "metadata": {
        "colab": {
          "base_uri": "https://localhost:8080/",
          "height": 53
        },
        "id": "-0H_Biq9oyOA",
        "outputId": "b2800d24-9bcb-41ae-f13a-7581e1fd521a"
      },
      "execution_count": 9,
      "outputs": [
        {
          "output_type": "execute_result",
          "data": {
            "text/plain": [
              "tan(10*x)/x"
            ],
            "text/latex": "$\\displaystyle \\frac{\\tan{\\left(10 x \\right)}}{x}$"
          },
          "metadata": {},
          "execution_count": 9
        }
      ]
    },
    {
      "cell_type": "markdown",
      "source": [
        "Part a.)"
      ],
      "metadata": {
        "id": "L1zihmVIU3nV"
      }
    },
    {
      "cell_type": "code",
      "source": [
        "from sympy.plotting import plot\n",
        "\n",
        "plot(f,(x,-.2,.2)) "
      ],
      "metadata": {
        "colab": {
          "base_uri": "https://localhost:8080/",
          "height": 314
        },
        "id": "bSjhDruYURYD",
        "outputId": "bea9f50f-e127-4878-8e62-1f3ab599bf04"
      },
      "execution_count": 10,
      "outputs": [
        {
          "output_type": "display_data",
          "data": {
            "text/plain": [
              "<Figure size 432x288 with 1 Axes>"
            ],
            "image/png": "[encoded data removed]"
          },
          "metadata": {
            "needs_background": "light"
          }
        },
        {
          "output_type": "execute_result",
          "data": {
            "text/plain": [
              "<sympy.plotting.plot.Plot at 0x7fefc50e6d90>"
            ]
          },
          "metadata": {},
          "execution_count": 10
        }
      ]
    },
    {
      "cell_type": "markdown",
      "source": [
        "Part b.) the limit is slightly above zero indicating a positive limit. "
      ],
      "metadata": {
        "id": "X6cNAtnovMA2"
      }
    },
    {
      "cell_type": "markdown",
      "source": [
        "Part c.)"
      ],
      "metadata": {
        "id": "xga2t6M1VHEX"
      }
    },
    {
      "cell_type": "code",
      "source": [
        "limit(f,x,0)"
      ],
      "metadata": {
        "colab": {
          "base_uri": "https://localhost:8080/",
          "height": 37
        },
        "id": "ErkBEQ4n9vX2",
        "outputId": "42709346-4d1d-4936-ed3c-373b412f4e36"
      },
      "execution_count": null,
      "outputs": [
        {
          "output_type": "execute_result",
          "data": {
            "text/plain": [
              "10"
            ],
            "text/latex": "$\\displaystyle 10$"
          },
          "metadata": {},
          "execution_count": 22
        }
      ]
    },
    {
      "cell_type": "markdown",
      "source": [
        "The limit is 10. "
      ],
      "metadata": {
        "id": "KJmA_JMxC0se"
      }
    },
    {
      "cell_type": "markdown",
      "source": [
        "Part d.) It would be specific to my problem. Different functions could yield different results. The value could also change depending on where the function was requesting the limit. For instance if it wanted the limit as x moves towards 2, it would create a different limit. "
      ],
      "metadata": {
        "id": "8-bMPx40bdAm"
      }
    },
    {
      "cell_type": "markdown",
      "source": [
        "## 2 Function Limits Including Precise Definition"
      ],
      "metadata": {
        "id": "BQo82jNSHM5B"
      }
    },
    {
      "cell_type": "markdown",
      "source": [
        "Problem 2.)\n",
        "\n",
        "Part a.)"
      ],
      "metadata": {
        "id": "aJ20kIIPEViF"
      }
    },
    {
      "cell_type": "markdown",
      "source": [
        "First, I will find the limit of this function. "
      ],
      "metadata": {
        "id": "Pl4q1pKxfMeY"
      }
    },
    {
      "cell_type": "code",
      "source": [
        "f1 = (E**(10*x)-1)/x\n",
        "f1"
      ],
      "metadata": {
        "id": "zHL3MI8HEamQ",
        "colab": {
          "base_uri": "https://localhost:8080/",
          "height": 54
        },
        "outputId": "82042f0b-00e2-4f77-eaec-b60d69ca6f34"
      },
      "execution_count": 11,
      "outputs": [
        {
          "output_type": "execute_result",
          "data": {
            "text/plain": [
              "(exp(10*x) - 1)/x"
            ],
            "text/latex": "$\\displaystyle \\frac{e^{10 x} - 1}{x}$"
          },
          "metadata": {},
          "execution_count": 11
        }
      ]
    },
    {
      "cell_type": "code",
      "source": [
        "limit(f1,x,0)"
      ],
      "metadata": {
        "colab": {
          "base_uri": "https://localhost:8080/",
          "height": 37
        },
        "id": "kQoWWVDacOkj",
        "outputId": "c021ee4e-d6bd-4770-a5ab-532a2ff4f0f2"
      },
      "execution_count": 12,
      "outputs": [
        {
          "output_type": "execute_result",
          "data": {
            "text/plain": [
              "10"
            ],
            "text/latex": "$\\displaystyle 10$"
          },
          "metadata": {},
          "execution_count": 12
        }
      ]
    },
    {
      "cell_type": "markdown",
      "source": [
        "The limit here is 10. "
      ],
      "metadata": {
        "id": "nC_UT_GF2UJp"
      }
    },
    {
      "cell_type": "markdown",
      "source": [
        "Part b.)"
      ],
      "metadata": {
        "id": "vKiDArWicg8K"
      }
    },
    {
      "cell_type": "markdown",
      "source": [
        "Next, I will attempt to determine delta using the precise definition of a limit given an epsilon of .5. By setting the function minus the limit, plus and minus the epsilon, I obtained the solutions listed below. "
      ],
      "metadata": {
        "id": "3s8O3gsdfSUE"
      }
    },
    {
      "cell_type": "code",
      "source": [
        "solve(f1-10-.5,x)"
      ],
      "metadata": {
        "colab": {
          "base_uri": "https://localhost:8080/"
        },
        "id": "UPZkOaR57HeC",
        "outputId": "ebd1c2bf-c186-4b65-ddb0-8a820de1ccc4"
      },
      "execution_count": null,
      "outputs": [
        {
          "output_type": "execute_result",
          "data": {
            "text/plain": [
              "[0.00967995433360011]"
            ]
          },
          "metadata": {},
          "execution_count": 5
        }
      ]
    },
    {
      "cell_type": "code",
      "source": [
        "solve(f1-10+.5,x)"
      ],
      "metadata": {
        "colab": {
          "base_uri": "https://localhost:8080/"
        },
        "id": "Z3cpg_owdNSU",
        "outputId": "095f07c6-5f0d-458b-89c4-cd2cd95de66f"
      },
      "execution_count": null,
      "outputs": [
        {
          "output_type": "execute_result",
          "data": {
            "text/plain": [
              "[-0.0103478831546223]"
            ]
          },
          "metadata": {},
          "execution_count": 6
        }
      ]
    },
    {
      "cell_type": "markdown",
      "source": [
        "-0.0103478831546223 < x < 0.00967995433360011 so it appears as though delta is .01."
      ],
      "metadata": {
        "id": "x6139ohADES8"
      }
    },
    {
      "cell_type": "code",
      "source": [
        "f1.subs(x,.0096799543360011)-10"
      ],
      "metadata": {
        "colab": {
          "base_uri": "https://localhost:8080/",
          "height": 37
        },
        "id": "TpEjQVBevdaE",
        "outputId": "9dbc239c-4087-441e-f5ca-ef1d89a249d7"
      },
      "execution_count": null,
      "outputs": [
        {
          "output_type": "execute_result",
          "data": {
            "text/plain": [
              "0.500000000128074"
            ],
            "text/latex": "$\\displaystyle 0.500000000128074$"
          },
          "metadata": {},
          "execution_count": 11
        }
      ]
    },
    {
      "cell_type": "code",
      "source": [
        "f1.subs(x,-0.0103478831546223)-10"
      ],
      "metadata": {
        "colab": {
          "base_uri": "https://localhost:8080/",
          "height": 37
        },
        "id": "jyQeZW0Uv0Ne",
        "outputId": "4fb9f9b3-038e-42a4-ab02-894aa2ab437a"
      },
      "execution_count": null,
      "outputs": [
        {
          "output_type": "execute_result",
          "data": {
            "text/plain": [
              "-0.500000000000000"
            ],
            "text/latex": "$\\displaystyle -0.5$"
          },
          "metadata": {},
          "execution_count": 13
        }
      ]
    },
    {
      "cell_type": "code",
      "source": [
        "for i in range(1,10000,1000):\n",
        "  print(abs(f1.subs(x,i)-10)<.5)"
      ],
      "metadata": {
        "colab": {
          "base_uri": "https://localhost:8080/"
        },
        "id": "LviMza7zwD_I",
        "outputId": "4480c51b-5814-4229-f32e-17f9abe4c4a2"
      },
      "execution_count": null,
      "outputs": [
        {
          "output_type": "stream",
          "name": "stdout",
          "text": [
            "False\n",
            "False\n",
            "False\n",
            "False\n",
            "False\n",
            "False\n",
            "False\n",
            "False\n",
            "False\n",
            "False\n"
          ]
        }
      ]
    },
    {
      "cell_type": "code",
      "source": [
        "x1 = np.linspace(-.01033,.0095,10)\n",
        "list = []\n",
        "for i in x1:\n",
        "  print(f1.subs(x,i),i)\n",
        "  list.append(abs(f1.subs(x,i)-10)<0.5)\n",
        "\n",
        "list"
      ],
      "metadata": {
        "colab": {
          "base_uri": "https://localhost:8080/"
        },
        "id": "YjHIb7T2VtgV",
        "outputId": "a4801c05-6344-4648-e857-288d8cf487d6"
      },
      "execution_count": 14,
      "outputs": [
        {
          "output_type": "stream",
          "name": "stdout",
          "text": [
            "9.50083485177865 -0.01033\n",
            "9.60445374326282 -0.008126666666666667\n",
            "9.70959540154073 -0.005923333333333334\n",
            "9.81628510908025 -0.003720000000000001\n",
            "9.92454859704679 -0.001516666666666668\n",
            "10.0344120536085 0.0006866666666666653\n",
            "10.1459021323996 0.0028899999999999985\n",
            "10.2590459611443 0.005093333333333332\n",
            "10.3738711504469 0.007296666666666665\n",
            "10.4904058027477 0.0095\n"
          ]
        },
        {
          "output_type": "execute_result",
          "data": {
            "text/plain": [
              "[True, True, True, True, True, True, True, True, True, True]"
            ]
          },
          "metadata": {},
          "execution_count": 14
        }
      ]
    },
    {
      "cell_type": "code",
      "source": [
        "x1"
      ],
      "metadata": {
        "colab": {
          "base_uri": "https://localhost:8080/"
        },
        "id": "MheZABqffF3r",
        "outputId": "25e980d9-1a98-4e36-c4f3-1a8280d5e8f1"
      },
      "execution_count": null,
      "outputs": [
        {
          "output_type": "execute_result",
          "data": {
            "text/plain": [
              "array([-0.01033   , -0.00811667, -0.00590333, -0.00369   , -0.00147667,\n",
              "        0.00073667,  0.00295   ,  0.00516333,  0.00737667,  0.00959   ])"
            ]
          },
          "metadata": {},
          "execution_count": 9
        }
      ]
    },
    {
      "cell_type": "markdown",
      "source": [
        "## 3 Derivative, Equation of the Tangent Line, and Graph of a Function"
      ],
      "metadata": {
        "id": "qVV8CwcqH8sm"
      }
    },
    {
      "cell_type": "markdown",
      "source": [
        "Problem 3.)"
      ],
      "metadata": {
        "id": "SQOU0gGuEkuS"
      }
    },
    {
      "cell_type": "markdown",
      "source": [
        "Part a.)"
      ],
      "metadata": {
        "id": "4CT83qhJ3r2n"
      }
    },
    {
      "cell_type": "markdown",
      "source": [
        "First, I will find the derivative of the given function listed below. "
      ],
      "metadata": {
        "id": "yn1eDmdLfaqw"
      }
    },
    {
      "cell_type": "code",
      "source": [
        "g = 6*x+10*sin(x)\n",
        "\n",
        "g.diff(x)"
      ],
      "metadata": {
        "colab": {
          "base_uri": "https://localhost:8080/",
          "height": 39
        },
        "id": "MaC3T03GNf0o",
        "outputId": "6bcad326-6687-432d-dd53-fab1b942c1bf"
      },
      "execution_count": 17,
      "outputs": [
        {
          "output_type": "execute_result",
          "data": {
            "text/plain": [
              "10*cos(x) + 6"
            ],
            "text/latex": "$\\displaystyle 10 \\cos{\\left(x \\right)} + 6$"
          },
          "metadata": {},
          "execution_count": 17
        }
      ]
    },
    {
      "cell_type": "markdown",
      "source": [
        "Part b.)"
      ],
      "metadata": {
        "id": "ewhuiVuY3ulr"
      }
    },
    {
      "cell_type": "markdown",
      "source": [
        "Next, I will find the slope of the tangent line. "
      ],
      "metadata": {
        "id": "voSyO7kM4A-5"
      }
    },
    {
      "cell_type": "code",
      "source": [
        "g1 = 10*cos(math.pi/6)+6\n",
        "g1"
      ],
      "metadata": {
        "colab": {
          "base_uri": "https://localhost:8080/",
          "height": 37
        },
        "id": "SlXLXhmD3w_H",
        "outputId": "798da602-aa3a-4b55-da4e-2233d005310e"
      },
      "execution_count": 21,
      "outputs": [
        {
          "output_type": "execute_result",
          "data": {
            "text/plain": [
              "14.6602540378444"
            ],
            "text/latex": "$\\displaystyle 14.6602540378444$"
          },
          "metadata": {},
          "execution_count": 21
        }
      ]
    },
    {
      "cell_type": "markdown",
      "source": [
        "Next, I will create the equation of the tangent line in slope intercept from. "
      ],
      "metadata": {
        "id": "p7vjoYFH4T8y"
      }
    },
    {
      "cell_type": "code",
      "source": [
        "line = g.diff(x).subs(x,math.pi/6)*(x-math.pi/6)+g.subs(x,math.pi/6)\n",
        "\n",
        "line"
      ],
      "metadata": {
        "colab": {
          "base_uri": "https://localhost:8080/",
          "height": 39
        },
        "id": "1d7yIYSh4aLG",
        "outputId": "d01acde2-af43-4dfd-873e-e202e92fdc9d"
      },
      "execution_count": 22,
      "outputs": [
        {
          "output_type": "execute_result",
          "data": {
            "text/plain": [
              "14.6602540378444*x + 0.465501589414456"
            ],
            "text/latex": "$\\displaystyle 14.6602540378444 x + 0.465501589414456$"
          },
          "metadata": {},
          "execution_count": 22
        }
      ]
    },
    {
      "cell_type": "markdown",
      "source": [
        "The equation of the tangent line is y = 14.6602540378444x+0.465501589414456"
      ],
      "metadata": {
        "id": "KDedknX76zyZ"
      }
    },
    {
      "cell_type": "markdown",
      "source": [
        "Part c.)"
      ],
      "metadata": {
        "id": "Ey1Pu54j7_Uj"
      }
    },
    {
      "cell_type": "markdown",
      "source": [
        "Lastly, I will graph the function and the line on the same axis in an interval small enough to see what is going on. "
      ],
      "metadata": {
        "id": "ZP1rCeL_e2np"
      }
    },
    {
      "cell_type": "code",
      "source": [
        "from sympy.plotting import plot\n",
        "\n",
        "plot(g,line , (x,-.5,2))"
      ],
      "metadata": {
        "colab": {
          "base_uri": "https://localhost:8080/",
          "height": 314
        },
        "id": "fA5fLtzq5GGy",
        "outputId": "4e8bf496-e458-4c55-8a69-7ff22ecd599a"
      },
      "execution_count": null,
      "outputs": [
        {
          "output_type": "display_data",
          "data": {
            "text/plain": [
              "<Figure size 432x288 with 1 Axes>"
            ],
            "image/png": "[encoded data removed]"
          },
          "metadata": {
            "needs_background": "light"
          }
        },
        {
          "output_type": "execute_result",
          "data": {
            "text/plain": [
              "<sympy.plotting.plot.Plot at 0x7fe1f9c3ff90>"
            ]
          },
          "metadata": {},
          "execution_count": 29
        }
      ]
    }
  ]
}