{
  "nbformat": 4,
  "nbformat_minor": 0,
  "metadata": {
    "colab": {
      "provenance": [],
      "authorship_tag": "ABX9TyO6Wm2+nFAVcHqdvr3TMTbP",
      "include_colab_link": true
    },
    "kernelspec": {
      "name": "python3",
      "display_name": "Python 3"
    },
    "language_info": {
      "name": "python"
    }
  },
  "cells": [
    {
      "cell_type": "markdown",
      "metadata": {
        "id": "view-in-github",
        "colab_type": "text"
      },
      "source": [
        "<a href=\"https://colab.research.google.com/github/Jett987/Calculus_1/blob/main/Calculus2825_ProgrammingLab_4.ipynb\" target=\"_parent\"><img src=\"https://colab.research.google.com/assets/colab-badge.svg\" alt=\"Open In Colab\"/></a>"
      ]
    },
    {
      "cell_type": "markdown",
      "source": [
        "Project Part # 4 : MATH 2825 Dr. Jacob's Calculus and Analytic Geometry\n",
        "Project Name: Programming Lab 4\n",
        "Jett McDowell\n",
        "(all coding was referenced from Dr. Jacob's github calculus 1 python repository.)"
      ],
      "metadata": {
        "id": "ugI2C-TXGqx4"
      }
    },
    {
      "cell_type": "markdown",
      "source": [
        "# Project Part # 4: MATH 2825 [Dr. Jacob's](https://github.com/nurfnick) Calculus and Analytic Geometry \n",
        "\n",
        "## Programming Lab 4\n",
        "\n",
        "### Jett McDowell \n",
        "#### a = 2 \n",
        "\n",
        "\n"
      ],
      "metadata": {
        "id": "AQtCTf-3HSut"
      }
    },
    {
      "cell_type": "code",
      "source": [
        "import matplotlib.pyplot as plt \n",
        "import numpy as np\n",
        "import math\n",
        "from sympy import *\n",
        "x = symbols('x')\n",
        "y = symbols('y')"
      ],
      "metadata": {
        "id": "eAwNISPPHgDC"
      },
      "execution_count": 1,
      "outputs": []
    },
    {
      "cell_type": "markdown",
      "source": [
        "## 1 Finding the Roots"
      ],
      "metadata": {
        "id": "oQZlS2L7HwAd"
      }
    },
    {
      "cell_type": "markdown",
      "source": [
        "###Problem 1.) \n",
        "\n",
        "###Part a.)\n",
        "\n",
        "I am going to take the function $ f(x) = x^6-x^5-ax^4-x^2+x-1$ and substitue the last digit of my student id number $a$. My number is $2$. Next I will Plot the function. The results are indicated below. "
      ],
      "metadata": {
        "id": "bmVK_o9UKThw"
      }
    },
    {
      "cell_type": "code",
      "source": [
        "f = x**6-x**5-(2)*x**4-x**2+x-1\n",
        "f"
      ],
      "metadata": {
        "id": "-0H_Biq9oyOA",
        "colab": {
          "base_uri": "https://localhost:8080/",
          "height": 38
        },
        "outputId": "c7dd9166-f329-4eb4-ddea-c71d4a8e5de4"
      },
      "execution_count": 2,
      "outputs": [
        {
          "output_type": "execute_result",
          "data": {
            "text/plain": [
              "x**6 - x**5 - 2*x**4 - x**2 + x - 1"
            ],
            "text/latex": "$\\displaystyle x^{6} - x^{5} - 2 x^{4} - x^{2} + x - 1$"
          },
          "metadata": {},
          "execution_count": 2
        }
      ]
    },
    {
      "cell_type": "code",
      "source": [
        "from sympy.plotting import plot\n",
        "\n",
        "plot(f,(x,-1.5,2.5)) "
      ],
      "metadata": {
        "id": "bSjhDruYURYD",
        "colab": {
          "base_uri": "https://localhost:8080/",
          "height": 315
        },
        "outputId": "d4794911-fbc6-450e-8607-25ab6fd9e411"
      },
      "execution_count": 3,
      "outputs": [
        {
          "output_type": "display_data",
          "data": {
            "text/plain": [
              "<Figure size 432x288 with 1 Axes>"
            ],
            "image/png": "[encoded data removed]"
          },
          "metadata": {
            "needs_background": "light"
          }
        },
        {
          "output_type": "execute_result",
          "data": {
            "text/plain": [
              "<sympy.plotting.plot.Plot at 0x7f20ceae8700>"
            ]
          },
          "metadata": {},
          "execution_count": 3
        }
      ]
    },
    {
      "cell_type": "markdown",
      "source": [
        "The graph above appears to display roots around -1.4 and 2.1. "
      ],
      "metadata": {
        "id": "LE7pkGwPjnfq"
      }
    },
    {
      "cell_type": "markdown",
      "source": [
        "###Part b.)\n",
        "\n",
        "Finding the roots using a built in command.  "
      ],
      "metadata": {
        "id": "NfkD-QaK0r82"
      }
    },
    {
      "cell_type": "code",
      "source": [
        "nsolve(f, x, 2)"
      ],
      "metadata": {
        "id": "QBY4gb4ED5yd",
        "colab": {
          "base_uri": "https://localhost:8080/",
          "height": 38
        },
        "outputId": "710e651e-ea5f-4813-b4c1-46337b564969"
      },
      "execution_count": 4,
      "outputs": [
        {
          "output_type": "execute_result",
          "data": {
            "text/plain": [
              "2.05792797643724"
            ],
            "text/latex": "$\\displaystyle 2.05792797643724$"
          },
          "metadata": {},
          "execution_count": 4
        }
      ]
    },
    {
      "cell_type": "code",
      "source": [
        "nsolve(f, x, -1.5)"
      ],
      "metadata": {
        "colab": {
          "base_uri": "https://localhost:8080/",
          "height": 38
        },
        "id": "O7X7gXGTkBsn",
        "outputId": "b7f0e15a-e097-4512-b5e5-f60d7c69f2b3"
      },
      "execution_count": 5,
      "outputs": [
        {
          "output_type": "execute_result",
          "data": {
            "text/plain": [
              "-1.36334958598209"
            ],
            "text/latex": "$\\displaystyle -1.36334958598209$"
          },
          "metadata": {},
          "execution_count": 5
        }
      ]
    },
    {
      "cell_type": "markdown",
      "source": [
        "The section of code below will utilize the $for$ loop provided to check for additional roots between the listed interval. "
      ],
      "metadata": {
        "id": "Kw46ugThxw9s"
      }
    },
    {
      "cell_type": "code",
      "source": [
        "z = np.linspace(-2,2,100)\n",
        "\n",
        "for i in z:\n",
        "  try:\n",
        "    print(nsolve(f,x,i))\n",
        "  except:\n",
        "    print(\"Did not find solution\")"
      ],
      "metadata": {
        "colab": {
          "base_uri": "https://localhost:8080/"
        },
        "id": "addAMTCttizS",
        "outputId": "0c3182a2-d7ee-4b69-cacb-4aaf295d4986"
      },
      "execution_count": 6,
      "outputs": [
        {
          "output_type": "stream",
          "name": "stdout",
          "text": [
            "-1.36334958598209\n",
            "-1.36334958598209\n",
            "-1.36334958598209\n",
            "-1.36334958598209\n",
            "-1.36334958598209\n",
            "-1.36334958598209\n",
            "-1.36334958598209\n",
            "-1.36334958598209\n",
            "-1.36334958598209\n",
            "-1.36334958598209\n",
            "-1.36334958598209\n",
            "-1.36334958598209\n",
            "-1.36334958598209\n",
            "-1.36334958598209\n",
            "-1.36334958598209\n",
            "-1.36334958598209\n",
            "-1.36334958598209\n",
            "-1.36334958598209\n",
            "-1.36334958598209\n",
            "-1.36334958598209\n",
            "Did not find solution\n",
            "Did not find solution\n",
            "Did not find solution\n",
            "-1.36334958597808\n",
            "Did not find solution\n",
            "Did not find solution\n",
            "-1.36334958598209\n",
            "2.05792797643724\n",
            "2.05792797643724\n",
            "2.05792797643724\n",
            "Did not find solution\n",
            "Did not find solution\n",
            "-1.36334958598209\n",
            "Did not find solution\n",
            "Did not find solution\n",
            "Did not find solution\n",
            "-1.36334958598209\n",
            "Did not find solution\n",
            "Did not find solution\n",
            "Did not find solution\n",
            "Did not find solution\n",
            "-1.36334958598209\n",
            "Did not find solution\n",
            "Did not find solution\n",
            "Did not find solution\n",
            "Did not find solution\n",
            "Did not find solution\n",
            "2.05792797643724\n",
            "Did not find solution\n",
            "-1.36334958598209\n",
            "Did not find solution\n",
            "-1.36334958598209\n",
            "Did not find solution\n",
            "Did not find solution\n",
            "Did not find solution\n",
            "-1.36334958598209\n",
            "Did not find solution\n",
            "Did not find solution\n",
            "Did not find solution\n",
            "Did not find solution\n",
            "-1.36334958598209\n",
            "Did not find solution\n",
            "2.05792797643724\n",
            "Did not find solution\n",
            "Did not find solution\n",
            "-1.36334958598209\n",
            "Did not find solution\n",
            "Did not find solution\n",
            "Did not find solution\n",
            "Did not find solution\n",
            "Did not find solution\n",
            "Did not find solution\n",
            "Did not find solution\n",
            "Did not find solution\n",
            "Did not find solution\n",
            "-1.36334958598209\n",
            "-1.36334958598209\n",
            "-1.36334958598209\n",
            "Did not find solution\n",
            "-1.36334958598209\n",
            "Did not find solution\n",
            "Did not find solution\n",
            "Did not find solution\n",
            "Did not find solution\n",
            "Did not find solution\n",
            "Did not find solution\n",
            "Did not find solution\n",
            "Did not find solution\n",
            "2.05792797643724\n",
            "2.05792797643724\n",
            "2.05792797643724\n",
            "2.05792797643724\n",
            "2.05792797643724\n",
            "2.05792797643724\n",
            "2.05792797643724\n",
            "2.05792797643724\n",
            "2.05792797643724\n",
            "2.05792797643724\n",
            "2.05792797643724\n",
            "2.05792797643724\n"
          ]
        }
      ]
    },
    {
      "cell_type": "markdown",
      "source": [
        "## 2. Consider the Curve $ y=x^a$ where $a$ is defined above. "
      ],
      "metadata": {
        "id": "BQo82jNSHM5B"
      }
    },
    {
      "cell_type": "markdown",
      "source": [
        "##Problem 2.)\n",
        "\n",
        "###Part a.) Graphing the Curve $ y = x^{2}$"
      ],
      "metadata": {
        "id": "aJ20kIIPEViF"
      }
    },
    {
      "cell_type": "code",
      "source": [
        "f1 = x**2\n",
        "\n",
        "f1"
      ],
      "metadata": {
        "id": "bjXkCzvnuApj",
        "colab": {
          "base_uri": "https://localhost:8080/",
          "height": 38
        },
        "outputId": "4fcbb655-474d-4393-eb92-e0c3e2c82dcf"
      },
      "execution_count": 7,
      "outputs": [
        {
          "output_type": "execute_result",
          "data": {
            "text/plain": [
              "x**2"
            ],
            "text/latex": "$\\displaystyle x^{2}$"
          },
          "metadata": {},
          "execution_count": 7
        }
      ]
    },
    {
      "cell_type": "markdown",
      "source": [
        "Below the equation is graphed from $0$ to $2$. "
      ],
      "metadata": {
        "id": "QHVgS4-Khjer"
      }
    },
    {
      "cell_type": "code",
      "source": [
        "from sympy.plotting import plot\n",
        "\n",
        "plot(f1,(x,0,2)) "
      ],
      "metadata": {
        "id": "WVRetPqXqIHA",
        "colab": {
          "base_uri": "https://localhost:8080/",
          "height": 314
        },
        "outputId": "34fe85bb-fa5f-4369-e837-e1858625883e"
      },
      "execution_count": 8,
      "outputs": [
        {
          "output_type": "display_data",
          "data": {
            "text/plain": [
              "<Figure size 432x288 with 1 Axes>"
            ],
            "image/png": "[encoded data removed]"
          },
          "metadata": {
            "needs_background": "light"
          }
        },
        {
          "output_type": "execute_result",
          "data": {
            "text/plain": [
              "<sympy.plotting.plot.Plot at 0x7f20ca4ad490>"
            ]
          },
          "metadata": {},
          "execution_count": 8
        }
      ]
    },
    {
      "cell_type": "markdown",
      "source": [
        "###Part b.)\n",
        "\n",
        "Next I will express the area under the curve as a limit, and I will compute the limit. "
      ],
      "metadata": {
        "id": "M5fG1yE9hr3h"
      }
    },
    {
      "cell_type": "markdown",
      "source": [
        "$$\n",
        "\\int_0^2 f(x)^2\\ dx \n",
        "=\n",
        "\\lim_{n\\to\\infty}\n",
        "\\sum_{i = 1}^n\n",
        "f(0+i * \\frac{2}n)^2 * \\frac{2}n\n",
        "\\quad\n",
        "\\text{where}\n",
        "\\quad\n",
        "x_i = 0+i * \\frac{2}n\n",
        "\\quad\n",
        "\\text{and}\n",
        "\\quad\n",
        "\\Delta x = \\frac{2-0}n\n",
        "$$"
      ],
      "metadata": {
        "id": "qQ0T8IqNNJc7"
      }
    },
    {
      "cell_type": "code",
      "source": [
        "n,i = symbols(('n','i'))\n",
        "dx = 2/n\n",
        "h = Sum(f1.subs(x,0+i*dx)*dx,(i,1,n))\n",
        "h"
      ],
      "metadata": {
        "colab": {
          "base_uri": "https://localhost:8080/",
          "height": 67
        },
        "id": "SM0fkhiER3F5",
        "outputId": "2785fa55-43b3-48e3-a07b-c0d94927798e"
      },
      "execution_count": 9,
      "outputs": [
        {
          "output_type": "execute_result",
          "data": {
            "text/plain": [
              "Sum(8*i**2/n**3, (i, 1, n))"
            ],
            "text/latex": "$\\displaystyle \\sum_{i=1}^{n} \\frac{8 i^{2}}{n^{3}}$"
          },
          "metadata": {},
          "execution_count": 9
        }
      ]
    },
    {
      "cell_type": "code",
      "source": [
        "h.simplify()"
      ],
      "metadata": {
        "colab": {
          "base_uri": "https://localhost:8080/",
          "height": 54
        },
        "id": "XzVQW4OjSbj-",
        "outputId": "529ef360-f0a9-4314-8545-15b87fbff3f4"
      },
      "execution_count": 10,
      "outputs": [
        {
          "output_type": "execute_result",
          "data": {
            "text/plain": [
              "8*Sum(i**2, (i, 1, n))/n**3"
            ],
            "text/latex": "$\\displaystyle \\frac{8 \\sum_{i=1}^{n} i^{2}}{n^{3}}$"
          },
          "metadata": {},
          "execution_count": 10
        }
      ]
    },
    {
      "cell_type": "markdown",
      "source": [
        "I used the section of code listed below to represent a large number of $n$ rectangles being sampled since I could not get the sympy function to work properly. As $n$ tends towards infinity, the answer would have continued to to grow even closer to the answer represented in the definite integral analysis in part c. "
      ],
      "metadata": {
        "id": "1nk3PkNpZOVm"
      }
    },
    {
      "cell_type": "code",
      "source": [
        "n = 10000\n",
        "\n",
        "\n",
        "dx = (2- (0))/n\n",
        "\n",
        "\n",
        "sum = 0\n",
        "for i in range(n):\n",
        "  sum += f1.subs(x,0+i*dx)*dx\n",
        "\n",
        "sum"
      ],
      "metadata": {
        "colab": {
          "base_uri": "https://localhost:8080/",
          "height": 38
        },
        "id": "bAwpHGF4Sy9U",
        "outputId": "8238ad46-d2e4-4e6d-b39f-c2b7ece00adb"
      },
      "execution_count": 11,
      "outputs": [
        {
          "output_type": "execute_result",
          "data": {
            "text/plain": [
              "2.66626668000000"
            ],
            "text/latex": "$\\displaystyle 2.66626668$"
          },
          "metadata": {},
          "execution_count": 11
        }
      ]
    },
    {
      "cell_type": "markdown",
      "source": [
        "##Part c.)\n",
        "\n",
        "Checking the answer above using the definite integral. "
      ],
      "metadata": {
        "id": "lsX6_63_jtrW"
      }
    },
    {
      "cell_type": "code",
      "source": [
        "f1.integrate((x,0,2))"
      ],
      "metadata": {
        "colab": {
          "base_uri": "https://localhost:8080/",
          "height": 51
        },
        "id": "klFoTq0SNJKb",
        "outputId": "c6dfb9f1-4379-41c5-de6b-60f6288679bd"
      },
      "execution_count": 12,
      "outputs": [
        {
          "output_type": "execute_result",
          "data": {
            "text/plain": [
              "8/3"
            ],
            "text/latex": "$\\displaystyle \\frac{8}{3}$"
          },
          "metadata": {},
          "execution_count": 12
        }
      ]
    },
    {
      "cell_type": "markdown",
      "source": [
        "These are the same since because they are evaluating from zero to two. When checking the limit, you are making an infinite number of small boxes to evaluate the area under the curve. They are also shown to be the same through theorem 4. "
      ],
      "metadata": {
        "id": "xZbegUElqjcr"
      }
    },
    {
      "cell_type": "markdown",
      "source": [
        "## 3 Integral function \n",
        "\n",
        "###part a.) Function:  $ Si(x) = \\int_0^x \\frac{sin(t)}t dt$\n",
        "I started by integrating $x$ into the given function. I then plotted the function and evaluated where the local extrema were. Although it wasn't requested, I also plotted the derivative of the function. Lastly I solved the function for $x$ when set equal to $1$. "
      ],
      "metadata": {
        "id": "qVV8CwcqH8sm"
      }
    },
    {
      "cell_type": "code",
      "source": [
        "t = symbols('t')\n",
        "\n",
        "si = integrate(sin(t)/t,(t,0,x))\n",
        "\n",
        "si"
      ],
      "metadata": {
        "id": "7gVRFb15v6gu",
        "colab": {
          "base_uri": "https://localhost:8080/",
          "height": 38
        },
        "outputId": "00952a8d-5d2b-41c4-94a6-3cd38570f6d6"
      },
      "execution_count": 13,
      "outputs": [
        {
          "output_type": "execute_result",
          "data": {
            "text/plain": [
              "Si(x)"
            ],
            "text/latex": "$\\displaystyle \\operatorname{Si}{\\left(x \\right)}$"
          },
          "metadata": {},
          "execution_count": 13
        }
      ]
    },
    {
      "cell_type": "code",
      "source": [
        "from sympy.plotting import plot\n",
        "\n",
        "plot(si,(x,0,20)) \n",
        "plot(si.diff(x),(x,0,20))"
      ],
      "metadata": {
        "id": "AFO8hutLz4i3",
        "colab": {
          "base_uri": "https://localhost:8080/",
          "height": 594
        },
        "outputId": "61466151-a26d-4195-b57f-ed965643b555"
      },
      "execution_count": 15,
      "outputs": [
        {
          "output_type": "display_data",
          "data": {
            "text/plain": [
              "<Figure size 432x288 with 1 Axes>"
            ],
            "image/png": "[encoded data removed]"
          },
          "metadata": {
            "needs_background": "light"
          }
        },
        {
          "output_type": "display_data",
          "data": {
            "text/plain": [
              "<Figure size 432x288 with 1 Axes>"
            ],
            "image/png": "[encoded data removed]"
          },
          "metadata": {
            "needs_background": "light"
          }
        },
        {
          "output_type": "execute_result",
          "data": {
            "text/plain": [
              "<sympy.plotting.plot.Plot at 0x7f20c7af3a00>"
            ]
          },
          "metadata": {},
          "execution_count": 15
        }
      ]
    },
    {
      "cell_type": "code",
      "source": [
        "df = si.diff(x)\n",
        "\n",
        "df"
      ],
      "metadata": {
        "id": "C7ne1TTn0fJ8",
        "colab": {
          "base_uri": "https://localhost:8080/",
          "height": 53
        },
        "outputId": "fc3f6073-74dc-4c26-ba6d-120e53738051"
      },
      "execution_count": 14,
      "outputs": [
        {
          "output_type": "execute_result",
          "data": {
            "text/plain": [
              "sin(x)/x"
            ],
            "text/latex": "$\\displaystyle \\frac{\\sin{\\left(x \\right)}}{x}$"
          },
          "metadata": {},
          "execution_count": 14
        }
      ]
    },
    {
      "cell_type": "markdown",
      "source": [
        "##Part b). \n",
        "\n",
        "To find the local extrema, I used the nsolve function and solved the derivative for $x$ around the points that were apparent in the graph illustrated above. "
      ],
      "metadata": {
        "id": "b2po4AGTWWLc"
      }
    },
    {
      "cell_type": "code",
      "source": [
        "solve(si.diff(x),x)"
      ],
      "metadata": {
        "colab": {
          "base_uri": "https://localhost:8080/"
        },
        "id": "emjuJg1bcgM7",
        "outputId": "84d79491-065c-4cf9-b7c6-122113106168"
      },
      "execution_count": 16,
      "outputs": [
        {
          "output_type": "execute_result",
          "data": {
            "text/plain": [
              "[pi]"
            ]
          },
          "metadata": {},
          "execution_count": 16
        }
      ]
    },
    {
      "cell_type": "markdown",
      "source": [
        "Below is a local max. "
      ],
      "metadata": {
        "id": "8apOeozLWxmN"
      }
    },
    {
      "cell_type": "code",
      "source": [
        "nsolve(si.diff(x).simplify(),x,2.5)"
      ],
      "metadata": {
        "id": "HyMTK1hSz-rx",
        "colab": {
          "base_uri": "https://localhost:8080/",
          "height": 38
        },
        "outputId": "db8f3d2c-11fd-4d34-9f4e-6e5afec3f742"
      },
      "execution_count": 17,
      "outputs": [
        {
          "output_type": "execute_result",
          "data": {
            "text/plain": [
              "3.14159265358979"
            ],
            "text/latex": "$\\displaystyle 3.14159265358979$"
          },
          "metadata": {},
          "execution_count": 17
        }
      ]
    },
    {
      "cell_type": "markdown",
      "source": [
        "A local min. "
      ],
      "metadata": {
        "id": "Od4FkkvhW1Yu"
      }
    },
    {
      "cell_type": "code",
      "source": [
        "nsolve(si.diff(x).simplify(),x,6)"
      ],
      "metadata": {
        "colab": {
          "base_uri": "https://localhost:8080/",
          "height": 38
        },
        "id": "TXLovEeXm4HQ",
        "outputId": "654f9f01-330c-4196-d36c-ef53681a78d3"
      },
      "execution_count": null,
      "outputs": [
        {
          "output_type": "execute_result",
          "data": {
            "text/plain": [
              "6.28318530717959"
            ],
            "text/latex": "$\\displaystyle 6.28318530717959$"
          },
          "metadata": {},
          "execution_count": 38
        }
      ]
    },
    {
      "cell_type": "markdown",
      "source": [
        "A local max"
      ],
      "metadata": {
        "id": "ZH-SySWVW3-g"
      }
    },
    {
      "cell_type": "code",
      "source": [
        "nsolve(si.diff(x).simplify(),x,9)"
      ],
      "metadata": {
        "colab": {
          "base_uri": "https://localhost:8080/",
          "height": 38
        },
        "id": "UB-PhrsLoAEa",
        "outputId": "e69bd50f-5f5b-42d1-9fd7-56ee367511e8"
      },
      "execution_count": null,
      "outputs": [
        {
          "output_type": "execute_result",
          "data": {
            "text/plain": [
              "9.42477796076938"
            ],
            "text/latex": "$\\displaystyle 9.42477796076938$"
          },
          "metadata": {},
          "execution_count": 43
        }
      ]
    },
    {
      "cell_type": "markdown",
      "source": [
        "A local min. "
      ],
      "metadata": {
        "id": "TQlZrfR4W6_B"
      }
    },
    {
      "cell_type": "code",
      "source": [
        "nsolve(si.diff(x).simplify(),x,12.5)"
      ],
      "metadata": {
        "colab": {
          "base_uri": "https://localhost:8080/",
          "height": 38
        },
        "id": "MvrPbI52oF6n",
        "outputId": "8c7851cb-f737-46b6-9a7b-b76b4440baad"
      },
      "execution_count": null,
      "outputs": [
        {
          "output_type": "execute_result",
          "data": {
            "text/plain": [
              "12.5663706143592"
            ],
            "text/latex": "$\\displaystyle 12.5663706143592$"
          },
          "metadata": {},
          "execution_count": 44
        }
      ]
    },
    {
      "cell_type": "markdown",
      "source": [
        "A local max. "
      ],
      "metadata": {
        "id": "AEQCtXPRXBzf"
      }
    },
    {
      "cell_type": "code",
      "source": [
        "nsolve(si.diff(x).simplify(),x,15)"
      ],
      "metadata": {
        "colab": {
          "base_uri": "https://localhost:8080/",
          "height": 38
        },
        "id": "kh2YGIsDoK-1",
        "outputId": "221206ff-e2eb-4a9d-d775-f6c486262314"
      },
      "execution_count": null,
      "outputs": [
        {
          "output_type": "execute_result",
          "data": {
            "text/plain": [
              "15.7079632679490"
            ],
            "text/latex": "$\\displaystyle 15.707963267949$"
          },
          "metadata": {},
          "execution_count": 45
        }
      ]
    },
    {
      "cell_type": "markdown",
      "source": [
        "A local min. "
      ],
      "metadata": {
        "id": "4CZR_r-qXFNC"
      }
    },
    {
      "cell_type": "code",
      "source": [
        "nsolve(si.diff(x).simplify(),x,17.5)"
      ],
      "metadata": {
        "colab": {
          "base_uri": "https://localhost:8080/",
          "height": 38
        },
        "id": "S1_1zts2oNuf",
        "outputId": "3eb62b71-0915-41b1-af45-0cb16ec35d4a"
      },
      "execution_count": null,
      "outputs": [
        {
          "output_type": "execute_result",
          "data": {
            "text/plain": [
              "18.8495559215388"
            ],
            "text/latex": "$\\displaystyle 18.8495559215388$"
          },
          "metadata": {},
          "execution_count": 46
        }
      ]
    },
    {
      "cell_type": "markdown",
      "source": [
        "It appears as though these are adding $pi$ each time. "
      ],
      "metadata": {
        "id": "MttLcAG3f9fa"
      }
    },
    {
      "cell_type": "markdown",
      "source": [
        "The below section of code confirms whether each value is a maximum or minimum. "
      ],
      "metadata": {
        "id": "y7X3VZG5e5z9"
      }
    },
    {
      "cell_type": "code",
      "source": [
        "df.diff(x)"
      ],
      "metadata": {
        "colab": {
          "base_uri": "https://localhost:8080/",
          "height": 53
        },
        "id": "mXu5_K_DedxS",
        "outputId": "565ccfc7-6124-45c4-bd18-bca43b5f1ee0"
      },
      "execution_count": null,
      "outputs": [
        {
          "output_type": "execute_result",
          "data": {
            "text/plain": [
              "cos(x)/x - sin(x)/x**2"
            ],
            "text/latex": "$\\displaystyle \\frac{\\cos{\\left(x \\right)}}{x} - \\frac{\\sin{\\left(x \\right)}}{x^{2}}$"
          },
          "metadata": {},
          "execution_count": 6
        }
      ]
    },
    {
      "cell_type": "code",
      "source": [
        "def g(x):\n",
        "  return (cos(x)/x)-(sin(x)/x**2)"
      ],
      "metadata": {
        "id": "7aQZGPWDei36"
      },
      "execution_count": null,
      "outputs": []
    },
    {
      "cell_type": "code",
      "source": [
        "g(x)"
      ],
      "metadata": {
        "colab": {
          "base_uri": "https://localhost:8080/",
          "height": 53
        },
        "id": "wfD9jBKcexhZ",
        "outputId": "60ef2117-76c6-4041-8149-93a89cd9d0a1"
      },
      "execution_count": null,
      "outputs": [
        {
          "output_type": "execute_result",
          "data": {
            "text/plain": [
              "cos(x)/x - sin(x)/x**2"
            ],
            "text/latex": "$\\displaystyle \\frac{\\cos{\\left(x \\right)}}{x} - \\frac{\\sin{\\left(x \\right)}}{x^{2}}$"
          },
          "metadata": {},
          "execution_count": 10
        }
      ]
    },
    {
      "cell_type": "markdown",
      "source": [
        "You can see the value below is less than zero, which indicates it's a maximum. "
      ],
      "metadata": {
        "id": "O4FPSVNYfb5n"
      }
    },
    {
      "cell_type": "code",
      "source": [
        "g(3.14159265358979)"
      ],
      "metadata": {
        "colab": {
          "base_uri": "https://localhost:8080/",
          "height": 38
        },
        "id": "Ck7MffWrezuR",
        "outputId": "74447dde-7ab2-4ea8-b11f-95d1cacb8ec1"
      },
      "execution_count": null,
      "outputs": [
        {
          "output_type": "execute_result",
          "data": {
            "text/plain": [
              "-0.318309886183791"
            ],
            "text/latex": "$\\displaystyle -0.318309886183791$"
          },
          "metadata": {},
          "execution_count": 11
        }
      ]
    },
    {
      "cell_type": "markdown",
      "source": [
        "Greater than zero indicates a minimum. Below is a minimum. "
      ],
      "metadata": {
        "id": "ioWDIDsnfjP3"
      }
    },
    {
      "cell_type": "code",
      "source": [
        "g(6.28318530717959)"
      ],
      "metadata": {
        "colab": {
          "base_uri": "https://localhost:8080/",
          "height": 38
        },
        "id": "u72YOvU2fCZl",
        "outputId": "3a66c316-30d1-4c51-bffc-7858e770780e"
      },
      "execution_count": null,
      "outputs": [
        {
          "output_type": "execute_result",
          "data": {
            "text/plain": [
              "0.159154943091895"
            ],
            "text/latex": "$\\displaystyle 0.159154943091895$"
          },
          "metadata": {},
          "execution_count": 12
        }
      ]
    },
    {
      "cell_type": "markdown",
      "source": [
        "Below is a maximum. "
      ],
      "metadata": {
        "id": "9_G6wAd7fnDC"
      }
    },
    {
      "cell_type": "code",
      "source": [
        "g(9.42477796076938)"
      ],
      "metadata": {
        "colab": {
          "base_uri": "https://localhost:8080/",
          "height": 38
        },
        "id": "rMRweeHLfID_",
        "outputId": "aca54b02-cdb7-4439-a068-3175d900b9c3"
      },
      "execution_count": null,
      "outputs": [
        {
          "output_type": "execute_result",
          "data": {
            "text/plain": [
              "-0.106103295394597"
            ],
            "text/latex": "$\\displaystyle -0.106103295394597$"
          },
          "metadata": {},
          "execution_count": 13
        }
      ]
    },
    {
      "cell_type": "markdown",
      "source": [
        "Below is a minimum. "
      ],
      "metadata": {
        "id": "NXEYpdU3fpa9"
      }
    },
    {
      "cell_type": "code",
      "source": [
        "g(12.5663706143592)"
      ],
      "metadata": {
        "colab": {
          "base_uri": "https://localhost:8080/",
          "height": 38
        },
        "id": "XaSs4HitfNJ7",
        "outputId": "c7746289-da94-4f79-b4ac-6aaa24c0c0ae"
      },
      "execution_count": null,
      "outputs": [
        {
          "output_type": "execute_result",
          "data": {
            "text/plain": [
              "0.0795774715459473"
            ],
            "text/latex": "$\\displaystyle 0.0795774715459473$"
          },
          "metadata": {},
          "execution_count": 14
        }
      ]
    },
    {
      "cell_type": "markdown",
      "source": [
        "Below is a maximum."
      ],
      "metadata": {
        "id": "YYQqW3owfr1H"
      }
    },
    {
      "cell_type": "code",
      "source": [
        "g(15.707963267949)"
      ],
      "metadata": {
        "colab": {
          "base_uri": "https://localhost:8080/",
          "height": 38
        },
        "id": "TTUtBLe2fQct",
        "outputId": "0595add6-8aad-4c41-a77b-499c8ea5dd63"
      },
      "execution_count": null,
      "outputs": [
        {
          "output_type": "execute_result",
          "data": {
            "text/plain": [
              "-0.0636619772367579"
            ],
            "text/latex": "$\\displaystyle -0.0636619772367579$"
          },
          "metadata": {},
          "execution_count": 15
        }
      ]
    },
    {
      "cell_type": "markdown",
      "source": [
        "Below is a minimum. "
      ],
      "metadata": {
        "id": "mVqP8QPkft3X"
      }
    },
    {
      "cell_type": "code",
      "source": [
        "g(18.8495559215388)"
      ],
      "metadata": {
        "colab": {
          "base_uri": "https://localhost:8080/",
          "height": 38
        },
        "id": "tnz0SYC9fU6m",
        "outputId": "7e2b349e-1dd6-49ef-e7e3-05cf426fcc99"
      },
      "execution_count": null,
      "outputs": [
        {
          "output_type": "execute_result",
          "data": {
            "text/plain": [
              "0.0530516476972982"
            ],
            "text/latex": "$\\displaystyle 0.0530516476972982$"
          },
          "metadata": {},
          "execution_count": 16
        }
      ]
    },
    {
      "cell_type": "markdown",
      "source": [
        "##Part c.)\n",
        "\n",
        "I defined the function $Si(x)$ and subtracted $1$ to represent the same value of being set equal to $1$. Then I used the nsolve function and solved for $x$. "
      ],
      "metadata": {
        "id": "3ZO43Q8xV4dX"
      }
    },
    {
      "cell_type": "code",
      "source": [
        "f3 = Si(x)\n",
        "\n",
        "f3"
      ],
      "metadata": {
        "colab": {
          "base_uri": "https://localhost:8080/",
          "height": 38
        },
        "id": "qoryB5g4XSCX",
        "outputId": "c074a61a-c2ce-4b28-8b87-1c664e74e8f6"
      },
      "execution_count": 18,
      "outputs": [
        {
          "output_type": "execute_result",
          "data": {
            "text/plain": [
              "Si(x)"
            ],
            "text/latex": "$\\displaystyle \\operatorname{Si}{\\left(x \\right)}$"
          },
          "metadata": {},
          "execution_count": 18
        }
      ]
    },
    {
      "cell_type": "code",
      "source": [
        "nsolve(f3-1,x,1)"
      ],
      "metadata": {
        "colab": {
          "base_uri": "https://localhost:8080/",
          "height": 38
        },
        "id": "faUgwIRm863C",
        "outputId": "6ae7f6af-d60c-46e1-daa2-a9e72578607c"
      },
      "execution_count": 19,
      "outputs": [
        {
          "output_type": "execute_result",
          "data": {
            "text/plain": [
              "1.06483972553656"
            ],
            "text/latex": "$\\displaystyle 1.06483972553656$"
          },
          "metadata": {},
          "execution_count": 19
        }
      ]
    }
  ]
}