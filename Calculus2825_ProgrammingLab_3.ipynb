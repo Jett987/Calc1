{
  "nbformat": 4,
  "nbformat_minor": 0,
  "metadata": {
    "colab": {
      "provenance": [],
      "collapsed_sections": [],
      "authorship_tag": "ABX9TyPDY0am3RV9wCN3LGhm0151",
      "include_colab_link": true
    },
    "kernelspec": {
      "name": "python3",
      "display_name": "Python 3"
    },
    "language_info": {
      "name": "python"
    }
  },
  "cells": [
    {
      "cell_type": "markdown",
      "metadata": {
        "id": "view-in-github",
        "colab_type": "text"
      },
      "source": [
        "<a href=\"https://colab.research.google.com/github/Jett987/Calculus_1/blob/main/Calculus2825_ProgrammingLab_3.ipynb\" target=\"_parent\"><img src=\"https://colab.research.google.com/assets/colab-badge.svg\" alt=\"Open In Colab\"/></a>"
      ]
    },
    {
      "cell_type": "markdown",
      "source": [
        "Project Part # 3 : MATH 2825 Dr. Jacob's Calculus and Analytic Geometry\n",
        "Project Name: Programming Lab 3\n",
        "Jett McDowell\n",
        "(all coding was referenced from Dr. Jacob's github calculus 1 python repository.)"
      ],
      "metadata": {
        "id": "ugI2C-TXGqx4"
      }
    },
    {
      "cell_type": "markdown",
      "source": [
        "# Project Part # 3: MATH 2825 [Dr. Jacob's](https://github.com/nurfnick) Calculus and Analytic Geometry \n",
        "\n",
        "## Programming Lab 3\n",
        "\n",
        "### Jett McDowell \n",
        "#### a = 10 \n",
        "\n",
        "\n"
      ],
      "metadata": {
        "id": "AQtCTf-3HSut"
      }
    },
    {
      "cell_type": "code",
      "source": [
        "import matplotlib.pyplot as plt \n",
        "import numpy as np\n",
        "import math\n",
        "from sympy import *\n",
        "x = symbols('x')\n",
        "y = symbols('y')"
      ],
      "metadata": {
        "id": "eAwNISPPHgDC"
      },
      "execution_count": 4,
      "outputs": []
    },
    {
      "cell_type": "markdown",
      "source": [
        "## 1 Function Graphed and Derivative"
      ],
      "metadata": {
        "id": "oQZlS2L7HwAd"
      }
    },
    {
      "cell_type": "markdown",
      "source": [
        "###Problem 1.) \n",
        "\n",
        "###Part a.)\n",
        "\n",
        "I am going to take the function $ f(x) = sqrt{((x^4-x+a)/(x^4+x+a))}$ and substitue my first initials corresponding number from the given table in place of \"a\". My number is 10. Next I will Plot the function. The results are indicated below. "
      ],
      "metadata": {
        "id": "bmVK_o9UKThw"
      }
    },
    {
      "cell_type": "code",
      "source": [
        "f = sqrt((x**4-x+10)/(x**4+x+10))\n",
        "f"
      ],
      "metadata": {
        "id": "-0H_Biq9oyOA"
      },
      "execution_count": null,
      "outputs": []
    },
    {
      "cell_type": "code",
      "source": [
        "from sympy.plotting import plot\n",
        "\n",
        "plot(f,(x,-5,5)) "
      ],
      "metadata": {
        "id": "bSjhDruYURYD"
      },
      "execution_count": null,
      "outputs": []
    },
    {
      "cell_type": "markdown",
      "source": [
        "###Part b.)\n",
        "\n",
        "Next, I will take the derivative of the function. "
      ],
      "metadata": {
        "id": "NfkD-QaK0r82"
      }
    },
    {
      "cell_type": "code",
      "source": [
        "f.diff(x)"
      ],
      "metadata": {
        "id": "QBY4gb4ED5yd"
      },
      "execution_count": null,
      "outputs": []
    },
    {
      "cell_type": "markdown",
      "source": [
        "### Part c.) \n",
        "I will now simplify the derivative. "
      ],
      "metadata": {
        "id": "tXpr6VoT0uyQ"
      }
    },
    {
      "cell_type": "code",
      "source": [
        "f.diff(x).simplify()"
      ],
      "metadata": {
        "id": "0NbNp5xGEnp_"
      },
      "execution_count": null,
      "outputs": []
    },
    {
      "cell_type": "markdown",
      "source": [
        "The entire derivative has now been simplified. If you compare 1b.) to 1c.), you will notice it appears to have followed the approprite order of operations, and proceeded to simplify the entire function as appropriate. "
      ],
      "metadata": {
        "id": "6oRUYJDMGRb6"
      }
    },
    {
      "cell_type": "markdown",
      "source": [
        "###Part d.) \n",
        "The values for the horizontal tangents are as follows. "
      ],
      "metadata": {
        "id": "ULyGZAOloWc7"
      }
    },
    {
      "cell_type": "code",
      "source": [
        "nsolve(f.diff(x).simplify(),x,1)"
      ],
      "metadata": {
        "id": "v2Lp9B_0niRc"
      },
      "execution_count": null,
      "outputs": []
    },
    {
      "cell_type": "code",
      "source": [
        "nsolve(f.diff(x).simplify(),x,-1)"
      ],
      "metadata": {
        "id": "vgMtKVzkn8Gj"
      },
      "execution_count": null,
      "outputs": []
    },
    {
      "cell_type": "markdown",
      "source": [
        "###Part e.)"
      ],
      "metadata": {
        "id": "iNGEuv0_pN-8"
      }
    },
    {
      "cell_type": "code",
      "source": [
        "from sympy.plotting import plot\n",
        "\n",
        "plot(f,f.diff(x),(x,-5,5)) \n"
      ],
      "metadata": {
        "id": "DjUK4OBF6n01"
      },
      "execution_count": null,
      "outputs": []
    },
    {
      "cell_type": "markdown",
      "source": [
        "The graph illustrated above represents the graph of the function, and the graph of the function's derivative. The graph is consistent with the horizontal tangent discovered in part d, you can see the derivative graph intersects the x-axis at the points listed above. To find the horizontal tangent for the function, the slope of the tangent line had to be set equal to zero and solved.  "
      ],
      "metadata": {
        "id": "68iAXYQNpF7K"
      }
    },
    {
      "cell_type": "markdown",
      "source": [
        "## 2. Tschirnhausen Cubic $ y^{2} = x^{3}+a(x)^{2}$"
      ],
      "metadata": {
        "id": "BQo82jNSHM5B"
      }
    },
    {
      "cell_type": "markdown",
      "source": [
        "##Problem 2.)\n",
        "\n",
        "###Part a.) Graphing the Equation $ y^{2} = x^{3}+10(x)^{2}$"
      ],
      "metadata": {
        "id": "aJ20kIIPEViF"
      }
    },
    {
      "cell_type": "code",
      "source": [
        "f1 = x**3+10*x**2-y**2\n",
        "\n",
        "f1"
      ],
      "metadata": {
        "id": "bjXkCzvnuApj"
      },
      "execution_count": null,
      "outputs": []
    },
    {
      "cell_type": "code",
      "source": [
        "import numpy as np\n",
        "import matplotlib.pyplot as plt\n",
        "\n",
        "x,y = np.meshgrid(np.linspace(-20, 20, 1000), np.linspace(-20, 20,1000))\n",
        "\n",
        "plt.contour(x,y,x**3+10*x**2-y**2,0)"
      ],
      "metadata": {
        "id": "WVRetPqXqIHA"
      },
      "execution_count": null,
      "outputs": []
    },
    {
      "cell_type": "markdown",
      "source": [
        "The graph above represents the given function:   $ y^{2} = x^{3}+10(x)^{2}$\n",
        "\n",
        "It appears that for almost every x input, there are two y outputs. As the x value continues towards infinity, the y values extend towards both positive, and negative infinity. "
      ],
      "metadata": {
        "id": "xZbegUElqjcr"
      }
    },
    {
      "cell_type": "code",
      "source": [
        "from sympy import *\n",
        "\n",
        "x, y = symbols('x y')\n",
        "\n",
        "plot_implicit(Eq(x**3 +10*x**2, y**2), (x, -15,15), (y,-15,15))"
      ],
      "metadata": {
        "id": "LXjxXHVRq5dl"
      },
      "execution_count": null,
      "outputs": []
    },
    {
      "cell_type": "markdown",
      "source": [
        "###Part b.) Horizontal Tangents\n",
        "\n",
        "Looking at the graph above, it would appear the horizontal tangents should be around -6. "
      ],
      "metadata": {
        "id": "0IpXmdR9t23P"
      }
    },
    {
      "cell_type": "code",
      "source": [
        "idiff(f1,y,x)"
      ],
      "metadata": {
        "id": "SiVdeopXuuPx"
      },
      "execution_count": null,
      "outputs": []
    },
    {
      "cell_type": "code",
      "source": [
        "solve(idiff(f1,y,x),x,0)"
      ],
      "metadata": {
        "id": "93eAWX8Lt3oy"
      },
      "execution_count": null,
      "outputs": []
    },
    {
      "cell_type": "markdown",
      "source": [
        "Using the results from above, it would appear that a more accurate result is -6.6667. "
      ],
      "metadata": {
        "id": "RtZW7Dd4lZvX"
      }
    },
    {
      "cell_type": "markdown",
      "source": [
        "###Part c.) Vertical Tangents\n",
        "It appears as though the graph has a vertical tangent at -10. "
      ],
      "metadata": {
        "id": "w8IDUHXTv6UL"
      }
    },
    {
      "cell_type": "code",
      "source": [
        "solve(f1.subs(y,0),x)"
      ],
      "metadata": {
        "id": "PjheEnHYsMXW"
      },
      "execution_count": null,
      "outputs": []
    },
    {
      "cell_type": "markdown",
      "source": [
        "###Part c.) Vertical Tangents Graphing Attempt \n",
        "On the graph listed below, I am attempting to display a visible representation of the vertical tangent."
      ],
      "metadata": {
        "id": "-Yfn-tIlv_lS"
      }
    },
    {
      "cell_type": "code",
      "source": [
        "p1 = plot_implicit(Eq(x**3+10*x**2, y**2), (x, -11,2), (y,-15,15), show = False)\n",
        "p2 = plot_implicit(x-10, show = False)\n",
        "p3 = plot_implicit(Eq(x, -10), show = False)\n",
        "p1.extend(p2)\n",
        "p1.extend(p3)\n",
        "\n",
        "p1.show()"
      ],
      "metadata": {
        "id": "xyuA5ByWsYAL"
      },
      "execution_count": null,
      "outputs": []
    },
    {
      "cell_type": "markdown",
      "source": [
        "###Part d.)\n",
        "\n",
        "When viewing the graph of the function, you can visibly see how the tangent line at -10 should be vertical indicating it's undefined. Similarly, you can see the tangent line would become horizontal at approximately -6.667, when the slope of the tangent line was equal to zero."
      ],
      "metadata": {
        "id": "6uigqY0Fu7WS"
      }
    },
    {
      "cell_type": "markdown",
      "source": [
        "## 3 Exponential function \n",
        "\n",
        "###part a.) Function:  $ g(x) = e^{-x^{2}/(2(10^2))}$\n",
        "I started by making setting the symbol in the original equation equal to a, which as mentioned before is 10 in this case. I then took the derivative. After taking the derivative, I solved the derivative for x which gave me my critical number."
      ],
      "metadata": {
        "id": "qVV8CwcqH8sm"
      }
    },
    {
      "cell_type": "code",
      "source": [
        "f2 = E**((-x**2)/(2*(10)**2))\n",
        "f2"
      ],
      "metadata": {
        "id": "7gVRFb15v6gu"
      },
      "execution_count": null,
      "outputs": []
    },
    {
      "cell_type": "code",
      "source": [
        "f2.diff(x)"
      ],
      "metadata": {
        "id": "AFO8hutLz4i3"
      },
      "execution_count": null,
      "outputs": []
    },
    {
      "cell_type": "code",
      "source": [
        "solve(f2.diff(x),x)"
      ],
      "metadata": {
        "id": "C7ne1TTn0fJ8"
      },
      "execution_count": null,
      "outputs": []
    },
    {
      "cell_type": "code",
      "source": [
        "nsolve(f2.diff(x).simplify(),x,0)"
      ],
      "metadata": {
        "id": "HyMTK1hSz-rx"
      },
      "execution_count": null,
      "outputs": []
    },
    {
      "cell_type": "markdown",
      "source": [
        "###Horizontal asymptote/critical number\n",
        "When solving the derivative for x, the resulting critical number indicated below also gives me the location of my horizontal tangent. "
      ],
      "metadata": {
        "id": "pXArBDFblbpu"
      }
    },
    {
      "cell_type": "code",
      "source": [
        "df = diff(f2,x)\n",
        "\n",
        "ddf = diff(df,x)\n",
        "\n",
        "solve(df,x)"
      ],
      "metadata": {
        "id": "XZw6IUR81zrr"
      },
      "execution_count": null,
      "outputs": []
    },
    {
      "cell_type": "markdown",
      "source": [
        "The y value cooresponding to the x value is listed below. "
      ],
      "metadata": {
        "id": "EFqi8IdBbCFl"
      }
    },
    {
      "cell_type": "code",
      "source": [
        "[f2.subs(x,a).simplify() for a in solve(df,x)]"
      ],
      "metadata": {
        "id": "tkDQES_7lTji"
      },
      "execution_count": null,
      "outputs": []
    },
    {
      "cell_type": "markdown",
      "source": [
        "The inflection points are listed below. To find them, I took the the second derivative and set it equal to zero and solved for x. "
      ],
      "metadata": {
        "id": "3cA2WbVRWSiT"
      }
    },
    {
      "cell_type": "code",
      "source": [
        "solve(diff(df,x))"
      ],
      "metadata": {
        "id": "nSWudB4tVRj1"
      },
      "execution_count": null,
      "outputs": []
    },
    {
      "cell_type": "code",
      "source": [
        "nsolve(diff(df,x),x,9)"
      ],
      "metadata": {
        "id": "cHAbTVyhdAU7"
      },
      "execution_count": null,
      "outputs": []
    },
    {
      "cell_type": "code",
      "source": [
        "nsolve(diff(df,x),x,-9)"
      ],
      "metadata": {
        "id": "YdAhI06EdWW-"
      },
      "execution_count": null,
      "outputs": []
    },
    {
      "cell_type": "markdown",
      "source": [
        "The equations listed below will verify 0 is a maximum."
      ],
      "metadata": {
        "id": "3O6S7cPnZ74h"
      }
    },
    {
      "cell_type": "code",
      "source": [
        "df.diff(x)"
      ],
      "metadata": {
        "id": "l9pb-0NsXzEV"
      },
      "execution_count": null,
      "outputs": []
    },
    {
      "cell_type": "code",
      "source": [
        "def g(x):\n",
        "   return ((x**2*E**(-x**2/(200))/10000))-((E**(-x**2/200))/100) "
      ],
      "metadata": {
        "id": "6dLGaXzjYvz2"
      },
      "execution_count": 112,
      "outputs": []
    },
    {
      "cell_type": "code",
      "source": [
        "g(x)"
      ],
      "metadata": {
        "id": "7FwG75V7ZpTM"
      },
      "execution_count": null,
      "outputs": []
    },
    {
      "cell_type": "code",
      "source": [
        "g(0)"
      ],
      "metadata": {
        "id": "V5H0r567Z1cb"
      },
      "execution_count": null,
      "outputs": []
    },
    {
      "cell_type": "markdown",
      "source": [
        "-1/100 is less than zero which indicates it is a maximum. "
      ],
      "metadata": {
        "id": "tIvmA3MxtPuq"
      }
    },
    {
      "cell_type": "code",
      "source": [
        "from sympy.plotting import plot\n",
        "\n",
        "plot(f2,(x,-100,100)) "
      ],
      "metadata": {
        "id": "sVtiEumObVkj"
      },
      "execution_count": null,
      "outputs": []
    },
    {
      "cell_type": "markdown",
      "source": [
        "Below is a graph displaying the function, the derivative, and the second derivative. The red dot indicates the maximum point, and the purple dots indicate the inflection points. "
      ],
      "metadata": {
        "id": "4OE-3IM5f8pc"
      }
    },
    {
      "cell_type": "code",
      "source": [
        "criticalx = solve(df,x)#interesing x\n",
        "criticaly = [f2.subs(x,a).simplify() for a in solve(df,x)]\n",
        "inflectionx = solve(diff(df,x))\n",
        "inflectiony = [f2.subs(x,a).simplify() for a in solve(diff(df,x))]\n",
        "\n",
        "xx = np.linspace(-100, 100, 1000)\n",
        "yy = lambdify(x, [f2,df,ddf])(xx) \n",
        "plt.plot(xx, np.transpose(yy))\n",
        "plt.plot(criticalx, criticaly,'o')\n",
        "plt.plot(inflectionx,inflectiony,'o')\n",
        "plt.show()"
      ],
      "metadata": {
        "id": "VbC0zF7deCBN"
      },
      "execution_count": null,
      "outputs": []
    },
    {
      "cell_type": "markdown",
      "source": [
        "###Part b.)"
      ],
      "metadata": {
        "id": "6W_zLhyDpxh-"
      }
    },
    {
      "cell_type": "code",
      "source": [
        "f3 = E**((-x**2)/(2*(2*10)**2))\n",
        "\n",
        "f3"
      ],
      "metadata": {
        "id": "0lqNZYXVp0Ux"
      },
      "execution_count": null,
      "outputs": []
    },
    {
      "cell_type": "code",
      "source": [
        "f3.diff(x)"
      ],
      "metadata": {
        "id": "3MAH9CisqEUl"
      },
      "execution_count": null,
      "outputs": []
    },
    {
      "cell_type": "code",
      "source": [
        "solve(f3.diff(x),x)"
      ],
      "metadata": {
        "id": "pwtf20a3qI73"
      },
      "execution_count": null,
      "outputs": []
    },
    {
      "cell_type": "code",
      "source": [
        "nsolve(f2.diff(x).simplify(),x,0)"
      ],
      "metadata": {
        "id": "ilX6iagDqPrj"
      },
      "execution_count": null,
      "outputs": []
    },
    {
      "cell_type": "code",
      "source": [
        "df1 = diff(f3,x)\n",
        "\n",
        "ddf1 = diff(df1,x)\n",
        "\n",
        "solve(df1,x)"
      ],
      "metadata": {
        "id": "3Dl1W6v_gv21"
      },
      "execution_count": null,
      "outputs": []
    },
    {
      "cell_type": "code",
      "source": [
        "solve(ddf1,x)"
      ],
      "metadata": {
        "id": "9DGgi9oqhZH6"
      },
      "execution_count": null,
      "outputs": []
    },
    {
      "cell_type": "code",
      "source": [
        "from sympy.plotting import plot\n",
        "\n",
        "plot(f3,(x,-100,100)) "
      ],
      "metadata": {
        "id": "LeTfiB96qTuA"
      },
      "execution_count": null,
      "outputs": []
    },
    {
      "cell_type": "markdown",
      "source": [
        "It appears as though the critical number and the horizontal asymptote remain the same, but the inflection points begin to change. "
      ],
      "metadata": {
        "id": "trnKoPrCqfVx"
      }
    },
    {
      "cell_type": "markdown",
      "source": [
        "###Part c.)"
      ],
      "metadata": {
        "id": "YFekimWCpb3r"
      }
    },
    {
      "cell_type": "code",
      "source": [
        "f4 = E**((-x**2)/(2*(3*10)**2))\n",
        "f5 = E**((-x**2)/(2*(4*10)**2))\n",
        "f6 = E**((-x**2)/(2*(5*10)**2))\n",
        "f7 = E**((-x**2)/(2*(6*10)**2))\n",
        "\n",
        "f4"
      ],
      "metadata": {
        "id": "Kq7vlEOowLNN"
      },
      "execution_count": null,
      "outputs": []
    },
    {
      "cell_type": "code",
      "source": [
        "f5"
      ],
      "metadata": {
        "id": "i1GT-uozwdsR"
      },
      "execution_count": null,
      "outputs": []
    },
    {
      "cell_type": "code",
      "source": [
        "f6"
      ],
      "metadata": {
        "id": "yR0hEhzJwfbO"
      },
      "execution_count": null,
      "outputs": []
    },
    {
      "cell_type": "code",
      "source": [
        "f7"
      ],
      "metadata": {
        "id": "PTOnZ77Ekx28"
      },
      "execution_count": null,
      "outputs": []
    },
    {
      "cell_type": "code",
      "source": [
        "df2 = diff(f4,x)\n",
        "ddf2 = diff(df2,x)\n",
        "solve(df2,x)"
      ],
      "metadata": {
        "id": "Xu1VGjqkiZZW"
      },
      "execution_count": null,
      "outputs": []
    },
    {
      "cell_type": "code",
      "source": [
        "solve(ddf2,x)"
      ],
      "metadata": {
        "id": "ivtEvN9FisVG"
      },
      "execution_count": null,
      "outputs": []
    },
    {
      "cell_type": "code",
      "source": [
        "df3 = diff(f5,x)\n",
        "ddf3 = diff(df3,x)\n",
        "solve(df3,x)"
      ],
      "metadata": {
        "id": "r82zyjXzirNS"
      },
      "execution_count": null,
      "outputs": []
    },
    {
      "cell_type": "code",
      "source": [
        "solve(ddf3,x)"
      ],
      "metadata": {
        "id": "2GV5SV6ti1kd"
      },
      "execution_count": null,
      "outputs": []
    },
    {
      "cell_type": "code",
      "source": [
        "df4 = diff(f6,x)\n",
        "ddf4 = diff(df4,x)\n",
        "solve(df4,x)"
      ],
      "metadata": {
        "id": "IFBVqU-ai8OG"
      },
      "execution_count": null,
      "outputs": []
    },
    {
      "cell_type": "code",
      "source": [
        "solve(ddf4,x)"
      ],
      "metadata": {
        "id": "P3s4XP3UjEf4"
      },
      "execution_count": null,
      "outputs": []
    },
    {
      "cell_type": "code",
      "source": [
        "df5 = diff(f7,x)\n",
        "ddf5 = diff(df5,x)\n",
        "solve(df5,x)"
      ],
      "metadata": {
        "id": "cEgo0CYSk45R"
      },
      "execution_count": null,
      "outputs": []
    },
    {
      "cell_type": "code",
      "source": [
        "solve(ddf5,x)"
      ],
      "metadata": {
        "id": "_tj-xkYpk_YD"
      },
      "execution_count": null,
      "outputs": []
    },
    {
      "cell_type": "code",
      "source": [
        "criticalx = solve(df2,x)#interesing x\n",
        "criticaly = [f4.subs(x,a).simplify() for a in solve(df2,x)]\n",
        "inflectionx = solve(ddf2,x)\n",
        "inflectiony = [f4.subs(x,a).simplify() for a in solve(ddf2,x)]\n",
        "\n",
        "criticalx1 = solve(df3,x)#interesing x\n",
        "criticaly1 = [f5.subs(x,a).simplify() for a in solve(df3,x)]\n",
        "inflectionx1 = solve(ddf3,x)\n",
        "inflectiony1 = [f5.subs(x,a).simplify() for a in solve(ddf3,x)]\n",
        "\n",
        "criticalx2 = solve(df4,x)#interesing x\n",
        "criticaly2 = [f6.subs(x,a).simplify() for a in solve(df4,x)]\n",
        "inflectionx2 = solve(ddf4,x)\n",
        "inflectiony2 = [f6.subs(x,a).simplify() for a in solve(ddf4,x)]\n",
        "\n",
        "criticalx3 = solve(df5,x)#interesing x\n",
        "criticaly3 = [f7.subs(x,a).simplify() for a in solve(df5,x)]\n",
        "inflectionx3 = solve(ddf5,x)\n",
        "inflectiony3 = [f7.subs(x,a).simplify() for a in solve(ddf5,x)]\n",
        "\n",
        "xx = np.linspace(-100, 100, 1000)\n",
        "yy = lambdify(x, [f4,f5,f6,f7])(xx) \n",
        "plt.plot(xx, np.transpose(yy))\n",
        "plt.plot(criticalx, criticaly,'o')\n",
        "plt.plot(inflectionx,inflectiony,'o')\n",
        "plt.plot(criticalx1, criticaly1,'o')\n",
        "plt.plot(inflectionx1,inflectiony1,'o')\n",
        "plt.plot(criticalx2, criticaly2,'o')\n",
        "plt.plot(inflectionx2,inflectiony2,'o')\n",
        "plt.plot(criticalx3, criticaly3,'o')\n",
        "plt.plot(inflectionx3,inflectiony3,'o')\n",
        "plt.show()"
      ],
      "metadata": {
        "id": "1ywlOIMiiO44"
      },
      "execution_count": null,
      "outputs": []
    },
    {
      "cell_type": "markdown",
      "source": [
        "As you can see in the graph above, my predictions from part 3b.) appear to be true. "
      ],
      "metadata": {
        "id": "BgFoBgwxlg2U"
      }
    }
  ]
}